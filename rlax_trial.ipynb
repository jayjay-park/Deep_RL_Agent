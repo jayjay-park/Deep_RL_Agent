{
  "cells": [
    {
      "cell_type": "markdown",
      "metadata": {
        "id": "Z3tKkPcdfi16"
      },
      "source": [
        "\n",
        "1. Source: The original source code is from the rlax github repository (rlax/example)\n",
        "2. My role: I included steps and comments for explanation and debugged so that it can run on colab environment\n",
        "3. About type of agent created: **a double-DQN agent** using rlax and other supporting libraries"
      ]
    },
    {
      "cell_type": "markdown",
      "metadata": {
        "id": "Qi5_VVEEeygW"
      },
      "source": [
        "Materials I studied (Reference Material)\n",
        "1. MIT lecture on RL\n",
        "2. "
      ]
    },
    {
      "cell_type": "markdown",
      "metadata": {
        "id": "YASy5QbcekLE"
      },
      "source": [
        "Cloned rlax repo"
      ]
    },
    {
      "cell_type": "code",
      "execution_count": null,
      "metadata": {
        "id": "aIc6DGXTVaCK"
      },
      "outputs": [],
      "source": [
        "!git clone https://github.com/jayjay-park/rlax.git\n"
      ]
    },
    {
      "cell_type": "code",
      "execution_count": null,
      "metadata": {
        "id": "TewI-Ks4Xa98"
      },
      "outputs": [],
      "source": [
        "ls\n"
      ]
    },
    {
      "cell_type": "markdown",
      "metadata": {
        "id": "QvcjxOxc93dt"
      },
      "source": [
        "1. Install Dependencies"
      ]
    },
    {
      "cell_type": "code",
      "execution_count": null,
      "metadata": {
        "id": "1JF4KK4gaikW"
      },
      "outputs": [],
      "source": [
        "!pip install bsuite\n",
        "!pip install dm-haiku\n",
        "!pip install optax\n",
        "!pip install rlax"
      ]
    },
    {
      "cell_type": "code",
      "execution_count": null,
      "metadata": {
        "id": "Xon5ZH2qXit0"
      },
      "outputs": [],
      "source": [
        "# Copyright 2019 DeepMind Technologies Limited. All Rights Reserved.\n",
        "#\n",
        "# Licensed under the Apache License, Version 2.0 (the \"License\");\n",
        "# you may not use this file except in compliance with the License.\n",
        "# You may obtain a copy of the License at\n",
        "#\n",
        "#     http://www.apache.org/licenses/LICENSE-2.0\n",
        "#\n",
        "\n",
        "# ==============================================================================\n",
        "\"\"\"A simple double-DQN agent trained to play BSuite's Catch env.\"\"\"\n",
        "\n",
        "import collections\n",
        "import random\n",
        "from absl import app\n",
        "from absl import flags\n",
        "from bsuite.environments import catch\n",
        "import haiku as hk\n",
        "from haiku import nets\n",
        "import jax\n",
        "import jax.numpy as jnp\n",
        "import numpy as np\n",
        "import optax\n",
        "import rlax\n",
        "# from rlax.examples import experiment\n",
        "from examples import experiment"
      ]
    },
    {
      "cell_type": "code",
      "execution_count": null,
      "metadata": {
        "id": "TCVS5oELd5lu"
      },
      "outputs": [],
      "source": [
        "# Jayjay -- This part was added to debug \"FATAL Flags parsing error: Unknown command line flag 'f'\"\n",
        "#\n",
        "# https://github.com/googlecolab/colabtools/issues/1323\n",
        "\n",
        "import sys\n",
        "from absl import app\n",
        "\n",
        "# Addresses `UnrecognizedFlagError: Unknown command line flag 'f'`\n",
        "sys.argv = sys.argv[:1]\n",
        "\n",
        "# `app.run` calls `sys.exit`\n",
        "try:\n",
        "  app.run(lambda argv: None)\n",
        "except:\n",
        "  pass"
      ]
    },
    {
      "cell_type": "markdown",
      "metadata": {
        "id": "Xgv0q4OWh1Oe"
      },
      "source": []
    },
    {
      "cell_type": "code",
      "execution_count": null,
      "metadata": {
        "id": "2pl6R5S2bAQQ"
      },
      "outputs": [],
      "source": [
        "Params = collections.namedtuple(\"Params\", \"online target\")\n",
        "ActorState = collections.namedtuple(\"ActorState\", \"count\")\n",
        "ActorOutput = collections.namedtuple(\"ActorOutput\", \"actions q_values\")\n",
        "LearnerState = collections.namedtuple(\"LearnerState\", \"count opt_state\")\n",
        "Data = collections.namedtuple(\"Data\", \"obs_tm1 a_tm1 r_t discount_t obs_t\")"
      ]
    },
    {
      "cell_type": "code",
      "execution_count": null,
      "metadata": {
        "id": "gQ4lY8yLbHoY"
      },
      "outputs": [],
      "source": [
        "\n",
        "FLAGS = flags.FLAGS\n",
        "flags.DEFINE_integer(\"seed\", 42, \"Random seed.\")\n",
        "flags.DEFINE_integer(\"train_episodes\", 301, \"Number of train episodes.\")\n",
        "flags.DEFINE_integer(\"batch_size\", 32, \"Size of the training batch\")\n",
        "flags.DEFINE_float(\"target_period\", 50, \"How often to update the target net.\")\n",
        "flags.DEFINE_integer(\"replay_capacity\", 2000, \"Capacity of the replay buffer.\")\n",
        "flags.DEFINE_integer(\"hidden_units\", 50, \"Number of network hidden units.\")\n",
        "flags.DEFINE_float(\"epsilon_begin\", 1., \"Initial epsilon-greedy exploration.\")\n",
        "flags.DEFINE_float(\"epsilon_end\", 0.01, \"Final epsilon-greedy exploration.\")\n",
        "flags.DEFINE_integer(\"epsilon_steps\", 1000, \"Steps over which to anneal eps.\")\n",
        "flags.DEFINE_float(\"discount_factor\", 0.99, \"Q-learning discount factor.\")\n",
        "flags.DEFINE_float(\"learning_rate\", 0.005, \"Optimizer learning rate.\")\n",
        "flags.DEFINE_integer(\"eval_episodes\", 100, \"Number of evaluation episodes.\")\n",
        "flags.DEFINE_integer(\"evaluate_every\", 50,\n",
        "                     \"Number of episodes between evaluations.\")"
      ]
    },
    {
      "cell_type": "code",
      "execution_count": null,
      "metadata": {
        "id": "7wVjlysobL8X"
      },
      "outputs": [],
      "source": [
        "def build_network(num_actions: int) -> hk.Transformed:\n",
        "  \"\"\"Factory for a simple MLP network for approximating Q-values.\"\"\"\n",
        "\n",
        "  def q(obs):\n",
        "    network = hk.Sequential(\n",
        "        [hk.Flatten(),\n",
        "         nets.MLP([FLAGS.hidden_units, num_actions])])\n",
        "    return network(obs)\n",
        "\n",
        "  return hk.without_apply_rng(hk.transform(q))"
      ]
    },
    {
      "cell_type": "code",
      "execution_count": null,
      "metadata": {
        "id": "ExsjseVDbPXf"
      },
      "outputs": [],
      "source": [
        "class ReplayBuffer(object):\n",
        "  \"\"\"A simple Python replay buffer.\"\"\"\n",
        "\n",
        "  def __init__(self, capacity):\n",
        "    self._prev = None\n",
        "    self._action = None\n",
        "    self._latest = None\n",
        "    self.buffer = collections.deque(maxlen=capacity)\n",
        "\n",
        "  def push(self, env_output, action):\n",
        "    self._prev = self._latest\n",
        "    self._action = action\n",
        "    self._latest = env_output\n",
        "\n",
        "    if action is not None:\n",
        "      self.buffer.append(\n",
        "          (self._prev.observation, self._action, self._latest.reward,\n",
        "           self._latest.discount, self._latest.observation))\n",
        "\n",
        "  def sample(self, batch_size):\n",
        "    obs_tm1, a_tm1, r_t, discount_t, obs_t = zip(\n",
        "        *random.sample(self.buffer, batch_size))\n",
        "    return (np.stack(obs_tm1), np.asarray(a_tm1), np.asarray(r_t),\n",
        "            np.asarray(discount_t) * FLAGS.discount_factor, np.stack(obs_t))\n",
        "\n",
        "  def is_ready(self, batch_size):\n",
        "    return batch_size <= len(self.buffer)"
      ]
    },
    {
      "cell_type": "markdown",
      "metadata": {
        "id": "iwrYcESh9tKa"
      },
      "source": [
        "Creating DQN Agent"
      ]
    },
    {
      "cell_type": "code",
      "execution_count": null,
      "metadata": {
        "id": "ZLguz5Q_bZvS"
      },
      "outputs": [],
      "source": [
        "class DQN:\n",
        "  \"\"\"A simple DQN agent.\"\"\"\n",
        "\n",
        "  def __init__(self, observation_spec, action_spec, epsilon_cfg, target_period,\n",
        "               learning_rate):\n",
        "    self._observation_spec = observation_spec\n",
        "    self._action_spec = action_spec\n",
        "    self._target_period = target_period\n",
        "    # Neural net and optimiser.\n",
        "    self._network = build_network(action_spec.num_values)\n",
        "    self._optimizer = optax.adam(learning_rate)\n",
        "    self._epsilon_by_frame = optax.polynomial_schedule(**epsilon_cfg)\n",
        "    # Jitting for speed.\n",
        "    self.actor_step = jax.jit(self.actor_step)\n",
        "    self.learner_step = jax.jit(self.learner_step)\n",
        "\n",
        "  def initial_params(self, key):\n",
        "    sample_input = self._observation_spec.generate_value()\n",
        "    sample_input = jnp.expand_dims(sample_input, 0)\n",
        "    online_params = self._network.init(key, sample_input)\n",
        "    return Params(online_params, online_params)\n",
        "\n",
        "  def initial_actor_state(self):\n",
        "    actor_count = jnp.zeros((), dtype=jnp.float32)\n",
        "    return ActorState(actor_count)\n",
        "\n",
        "  def initial_learner_state(self, params):\n",
        "    learner_count = jnp.zeros((), dtype=jnp.float32)\n",
        "    opt_state = self._optimizer.init(params.online)\n",
        "    return LearnerState(learner_count, opt_state)\n",
        "\n",
        "  def actor_step(self, params, env_output, actor_state, key, evaluation):\n",
        "    obs = jnp.expand_dims(env_output.observation, 0)  # add dummy batch\n",
        "    q = self._network.apply(params.online, obs)[0]  # remove dummy batch\n",
        "    epsilon = self._epsilon_by_frame(actor_state.count)\n",
        "    train_a = rlax.epsilon_greedy(epsilon).sample(key, q)\n",
        "    eval_a = rlax.greedy().sample(key, q)\n",
        "    a = jax.lax.select(evaluation, eval_a, train_a)\n",
        "    return ActorOutput(actions=a, q_values=q), ActorState(actor_state.count + 1)\n",
        "\n",
        "  def learner_step(self, params, data, learner_state, unused_key):\n",
        "    target_params = rlax.periodic_update(\n",
        "        params.online, params.target, learner_state.count, self._target_period)\n",
        "    dloss_dtheta = jax.grad(self._loss)(params.online, target_params, *data)\n",
        "    updates, opt_state = self._optimizer.update(\n",
        "        dloss_dtheta, learner_state.opt_state)\n",
        "    online_params = optax.apply_updates(params.online, updates)\n",
        "    return (\n",
        "        Params(online_params, target_params),\n",
        "        LearnerState(learner_state.count + 1, opt_state))\n",
        "\n",
        "  def _loss(self, online_params, target_params,\n",
        "            obs_tm1, a_tm1, r_t, discount_t, obs_t):\n",
        "    q_tm1 = self._network.apply(online_params, obs_tm1)\n",
        "    q_t_val = self._network.apply(target_params, obs_t)\n",
        "    q_t_select = self._network.apply(online_params, obs_t)\n",
        "    batched_loss = jax.vmap(rlax.double_q_learning)\n",
        "    td_error = batched_loss(q_tm1, a_tm1, r_t, discount_t, q_t_val, q_t_select)\n",
        "    return jnp.mean(rlax.l2_loss(td_error))\n",
        "\n",
        "\n",
        "def main(unused_arg):\n",
        "  env = catch.Catch(seed=FLAGS.seed)\n",
        "  epsilon_cfg = dict(\n",
        "      init_value=FLAGS.epsilon_begin,\n",
        "      end_value=FLAGS.epsilon_end,\n",
        "      transition_steps=FLAGS.epsilon_steps,\n",
        "      power=1.)\n",
        "  agent = DQN(\n",
        "      observation_spec=env.observation_spec(),\n",
        "      action_spec=env.action_spec(),\n",
        "      epsilon_cfg=epsilon_cfg,\n",
        "      target_period=FLAGS.target_period,\n",
        "      learning_rate=FLAGS.learning_rate,\n",
        "  )\n",
        "\n",
        "  accumulator = ReplayBuffer(FLAGS.replay_capacity)\n",
        "  experiment.run_loop(\n",
        "      agent=agent,\n",
        "      environment=env,\n",
        "      accumulator=accumulator,\n",
        "      seed=FLAGS.seed,\n",
        "      batch_size=FLAGS.batch_size,\n",
        "      train_episodes=FLAGS.train_episodes,\n",
        "      evaluate_every=FLAGS.evaluate_every,\n",
        "      eval_episodes=FLAGS.eval_episodes,\n",
        "  )\n"
      ]
    },
    {
      "cell_type": "code",
      "execution_count": null,
      "metadata": {
        "id": "3R_mDUEeeXwS"
      },
      "outputs": [],
      "source": [
        "if __name__ == \"__main__\":\n",
        "  app.run(main)"
      ]
    }
  ],
  "metadata": {
    "colab": {
      "name": "rlax_trial.ipynb",
      "private_outputs": true,
      "provenance": []
    },
    "kernelspec": {
      "display_name": "Python 3",
      "name": "python3"
    },
    "language_info": {
      "name": "python"
    }
  },
  "nbformat": 4,
  "nbformat_minor": 0
}
