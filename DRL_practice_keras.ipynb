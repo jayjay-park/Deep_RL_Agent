{
 "cells": [
  {
   "cell_type": "markdown",
   "metadata": {},
   "source": [
    "1. Creating Environments from OpenAI\n",
    "2. Building a tf.keras DL model\n",
    "3. Using keras-rl agents to train\n",
    "\n",
    "from: Deep reinforcement Learning Tutorial for Python in 20 Minutes"
   ]
  },
  {
   "cell_type": "markdown",
   "metadata": {},
   "source": [
    "AREA:\n",
    "\n",
    "1. Action\n",
    "2. Reward\n",
    "3. Environment\n",
    "4. Agent"
   ]
  },
  {
   "cell_type": "markdown",
   "metadata": {},
   "source": [
    "## Build DR Agent\n",
    "\n",
    "1. Install Dependencies\n",
    "2. test random environment with OpenAI Gym\n",
    "3. Create a Deep Learning Model with Keras\n",
    "4. Build Agent with Keras-RL\n",
    "5. Reloading Agent from Memory"
   ]
  },
  {
   "cell_type": "markdown",
   "metadata": {},
   "source": [
    "**Question**\n",
    "\n",
    "1. What is difference between DRL and RL?\n",
    "2. What is difference between install and import?"
   ]
  },
  {
   "cell_type": "markdown",
   "metadata": {},
   "source": [
    "1. Install Dependencies"
   ]
  },
  {
   "cell_type": "code",
   "execution_count": 4,
   "metadata": {},
   "outputs": [
    {
     "name": "stdout",
     "output_type": "stream",
     "text": [
      "Collecting numpy==1.18.5\n",
      "  Using cached https://files.pythonhosted.org/packages/3e/00/0266fefaafb839760d5b25b884375b2ab0f842ebe138ee6c1ef807af44bb/numpy-1.18.5-cp37-cp37m-macosx_10_9_x86_64.whl\n",
      "Installing collected packages: numpy\n",
      "  Found existing installation: numpy 1.18.5\n",
      "    Uninstalling numpy-1.18.5:\n",
      "      Successfully uninstalled numpy-1.18.5\n",
      "Successfully installed numpy-1.18.5\n",
      "Note: you may need to restart the kernel to use updated packages.\n"
     ]
    }
   ],
   "source": [
    "#pip install --force-reinstall numpy==1.18.5"
   ]
  },
  {
   "cell_type": "code",
   "execution_count": 5,
   "metadata": {},
   "outputs": [
    {
     "name": "stdout",
     "output_type": "stream",
     "text": [
      "Requirement already satisfied: tensorflow==2.3.0 in ./opt/anaconda3/lib/python3.7/site-packages (2.3.0)\n",
      "Requirement already satisfied: gast==0.3.3 in ./opt/anaconda3/lib/python3.7/site-packages (from tensorflow==2.3.0) (0.3.3)\n",
      "Requirement already satisfied: astunparse==1.6.3 in ./opt/anaconda3/lib/python3.7/site-packages (from tensorflow==2.3.0) (1.6.3)\n",
      "Requirement already satisfied: opt-einsum>=2.3.2 in ./opt/anaconda3/lib/python3.7/site-packages (from tensorflow==2.3.0) (3.3.0)\n",
      "Requirement already satisfied: tensorboard<3,>=2.3.0 in ./opt/anaconda3/lib/python3.7/site-packages (from tensorflow==2.3.0) (2.8.0)\n",
      "Requirement already satisfied: scipy==1.4.1 in ./opt/anaconda3/lib/python3.7/site-packages (from tensorflow==2.3.0) (1.4.1)\n",
      "Requirement already satisfied: numpy<1.19.0,>=1.16.0 in ./opt/anaconda3/lib/python3.7/site-packages (from tensorflow==2.3.0) (1.18.5)\n",
      "Requirement already satisfied: grpcio>=1.8.6 in ./opt/anaconda3/lib/python3.7/site-packages (from tensorflow==2.3.0) (1.43.0)\n",
      "Requirement already satisfied: termcolor>=1.1.0 in ./opt/anaconda3/lib/python3.7/site-packages (from tensorflow==2.3.0) (1.1.0)\n",
      "Requirement already satisfied: tensorflow-estimator<2.4.0,>=2.3.0 in ./opt/anaconda3/lib/python3.7/site-packages (from tensorflow==2.3.0) (2.3.0)\n",
      "Requirement already satisfied: keras-preprocessing<1.2,>=1.1.1 in ./opt/anaconda3/lib/python3.7/site-packages (from tensorflow==2.3.0) (1.1.2)\n",
      "Requirement already satisfied: protobuf>=3.9.2 in ./opt/anaconda3/lib/python3.7/site-packages (from tensorflow==2.3.0) (3.14.0)\n",
      "Requirement already satisfied: absl-py>=0.7.0 in ./opt/anaconda3/lib/python3.7/site-packages (from tensorflow==2.3.0) (1.0.0)\n",
      "Requirement already satisfied: wrapt>=1.11.1 in ./opt/anaconda3/lib/python3.7/site-packages (from tensorflow==2.3.0) (1.11.2)\n",
      "Requirement already satisfied: six>=1.12.0 in ./opt/anaconda3/lib/python3.7/site-packages (from tensorflow==2.3.0) (1.15.0)\n",
      "Requirement already satisfied: wheel>=0.26 in ./opt/anaconda3/lib/python3.7/site-packages (from tensorflow==2.3.0) (0.33.6)\n",
      "Requirement already satisfied: google-pasta>=0.1.8 in ./opt/anaconda3/lib/python3.7/site-packages (from tensorflow==2.3.0) (0.2.0)\n",
      "Requirement already satisfied: h5py<2.11.0,>=2.10.0 in ./opt/anaconda3/lib/python3.7/site-packages (from tensorflow==2.3.0) (2.10.0)\n",
      "Requirement already satisfied: markdown>=2.6.8 in ./opt/anaconda3/lib/python3.7/site-packages (from tensorboard<3,>=2.3.0->tensorflow==2.3.0) (3.3.6)\n",
      "Requirement already satisfied: tensorboard-data-server<0.7.0,>=0.6.0 in ./opt/anaconda3/lib/python3.7/site-packages (from tensorboard<3,>=2.3.0->tensorflow==2.3.0) (0.6.1)\n",
      "Requirement already satisfied: google-auth-oauthlib<0.5,>=0.4.1 in ./opt/anaconda3/lib/python3.7/site-packages (from tensorboard<3,>=2.3.0->tensorflow==2.3.0) (0.4.6)\n",
      "Requirement already satisfied: werkzeug>=0.11.15 in ./opt/anaconda3/lib/python3.7/site-packages (from tensorboard<3,>=2.3.0->tensorflow==2.3.0) (0.16.0)\n",
      "Requirement already satisfied: google-auth<3,>=1.6.3 in ./opt/anaconda3/lib/python3.7/site-packages (from tensorboard<3,>=2.3.0->tensorflow==2.3.0) (1.25.0)\n",
      "Requirement already satisfied: setuptools>=41.0.0 in ./opt/anaconda3/lib/python3.7/site-packages (from tensorboard<3,>=2.3.0->tensorflow==2.3.0) (41.4.0)\n",
      "Requirement already satisfied: requests<3,>=2.21.0 in ./opt/anaconda3/lib/python3.7/site-packages (from tensorboard<3,>=2.3.0->tensorflow==2.3.0) (2.22.0)\n",
      "Requirement already satisfied: tensorboard-plugin-wit>=1.6.0 in ./opt/anaconda3/lib/python3.7/site-packages (from tensorboard<3,>=2.3.0->tensorflow==2.3.0) (1.8.1)\n",
      "Requirement already satisfied: importlib-metadata>=4.4; python_version < \"3.10\" in ./opt/anaconda3/lib/python3.7/site-packages (from markdown>=2.6.8->tensorboard<3,>=2.3.0->tensorflow==2.3.0) (4.10.1)\n",
      "Requirement already satisfied: requests-oauthlib>=0.7.0 in ./opt/anaconda3/lib/python3.7/site-packages (from google-auth-oauthlib<0.5,>=0.4.1->tensorboard<3,>=2.3.0->tensorflow==2.3.0) (1.3.0)\n",
      "Requirement already satisfied: cachetools<5.0,>=2.0.0 in ./opt/anaconda3/lib/python3.7/site-packages (from google-auth<3,>=1.6.3->tensorboard<3,>=2.3.0->tensorflow==2.3.0) (4.2.1)\n",
      "Requirement already satisfied: pyasn1-modules>=0.2.1 in ./opt/anaconda3/lib/python3.7/site-packages (from google-auth<3,>=1.6.3->tensorboard<3,>=2.3.0->tensorflow==2.3.0) (0.2.8)\n",
      "Requirement already satisfied: rsa<5,>=3.1.4; python_version >= \"3.6\" in ./opt/anaconda3/lib/python3.7/site-packages (from google-auth<3,>=1.6.3->tensorboard<3,>=2.3.0->tensorflow==2.3.0) (4.7)\n",
      "Requirement already satisfied: chardet<3.1.0,>=3.0.2 in ./opt/anaconda3/lib/python3.7/site-packages (from requests<3,>=2.21.0->tensorboard<3,>=2.3.0->tensorflow==2.3.0) (3.0.4)\n",
      "Requirement already satisfied: certifi>=2017.4.17 in ./opt/anaconda3/lib/python3.7/site-packages (from requests<3,>=2.21.0->tensorboard<3,>=2.3.0->tensorflow==2.3.0) (2019.9.11)\n",
      "Requirement already satisfied: idna<2.9,>=2.5 in ./opt/anaconda3/lib/python3.7/site-packages (from requests<3,>=2.21.0->tensorboard<3,>=2.3.0->tensorflow==2.3.0) (2.8)\n",
      "Requirement already satisfied: urllib3!=1.25.0,!=1.25.1,<1.26,>=1.21.1 in ./opt/anaconda3/lib/python3.7/site-packages (from requests<3,>=2.21.0->tensorboard<3,>=2.3.0->tensorflow==2.3.0) (1.24.2)\n",
      "Requirement already satisfied: typing-extensions>=3.6.4; python_version < \"3.8\" in ./opt/anaconda3/lib/python3.7/site-packages (from importlib-metadata>=4.4; python_version < \"3.10\"->markdown>=2.6.8->tensorboard<3,>=2.3.0->tensorflow==2.3.0) (4.0.1)\n",
      "Requirement already satisfied: zipp>=0.5 in ./opt/anaconda3/lib/python3.7/site-packages (from importlib-metadata>=4.4; python_version < \"3.10\"->markdown>=2.6.8->tensorboard<3,>=2.3.0->tensorflow==2.3.0) (0.6.0)\n",
      "Requirement already satisfied: oauthlib>=3.0.0 in ./opt/anaconda3/lib/python3.7/site-packages (from requests-oauthlib>=0.7.0->google-auth-oauthlib<0.5,>=0.4.1->tensorboard<3,>=2.3.0->tensorflow==2.3.0) (3.1.0)\n",
      "Requirement already satisfied: pyasn1<0.5.0,>=0.4.6 in ./opt/anaconda3/lib/python3.7/site-packages (from pyasn1-modules>=0.2.1->google-auth<3,>=1.6.3->tensorboard<3,>=2.3.0->tensorflow==2.3.0) (0.4.8)\n",
      "Requirement already satisfied: more-itertools in ./opt/anaconda3/lib/python3.7/site-packages (from zipp>=0.5->importlib-metadata>=4.4; python_version < \"3.10\"->markdown>=2.6.8->tensorboard<3,>=2.3.0->tensorflow==2.3.0) (7.2.0)\n",
      "Requirement already satisfied: gym in ./opt/anaconda3/lib/python3.7/site-packages (0.21.0)\n",
      "Requirement already satisfied: cloudpickle>=1.2.0 in ./opt/anaconda3/lib/python3.7/site-packages (from gym) (1.2.2)\n",
      "Requirement already satisfied: importlib-metadata>=4.8.1; python_version < \"3.8\" in ./opt/anaconda3/lib/python3.7/site-packages (from gym) (4.10.1)\n",
      "Requirement already satisfied: numpy>=1.18.0 in ./opt/anaconda3/lib/python3.7/site-packages (from gym) (1.18.5)\n",
      "Requirement already satisfied: zipp>=0.5 in ./opt/anaconda3/lib/python3.7/site-packages (from importlib-metadata>=4.8.1; python_version < \"3.8\"->gym) (0.6.0)\n",
      "Requirement already satisfied: typing-extensions>=3.6.4; python_version < \"3.8\" in ./opt/anaconda3/lib/python3.7/site-packages (from importlib-metadata>=4.8.1; python_version < \"3.8\"->gym) (4.0.1)\n",
      "Requirement already satisfied: more-itertools in ./opt/anaconda3/lib/python3.7/site-packages (from zipp>=0.5->importlib-metadata>=4.8.1; python_version < \"3.8\"->gym) (7.2.0)\n",
      "Requirement already satisfied: keras in ./opt/anaconda3/lib/python3.7/site-packages (2.7.0)\n",
      "Requirement already satisfied: keras-rl2 in ./opt/anaconda3/lib/python3.7/site-packages (1.0.5)\n",
      "Requirement already satisfied: tensorflow in ./opt/anaconda3/lib/python3.7/site-packages (from keras-rl2) (2.3.0)\n",
      "Requirement already satisfied: scipy==1.4.1 in ./opt/anaconda3/lib/python3.7/site-packages (from tensorflow->keras-rl2) (1.4.1)\n",
      "Requirement already satisfied: protobuf>=3.9.2 in ./opt/anaconda3/lib/python3.7/site-packages (from tensorflow->keras-rl2) (3.14.0)\n",
      "Requirement already satisfied: h5py<2.11.0,>=2.10.0 in ./opt/anaconda3/lib/python3.7/site-packages (from tensorflow->keras-rl2) (2.10.0)\n",
      "Requirement already satisfied: wheel>=0.26 in ./opt/anaconda3/lib/python3.7/site-packages (from tensorflow->keras-rl2) (0.33.6)\n",
      "Requirement already satisfied: google-pasta>=0.1.8 in ./opt/anaconda3/lib/python3.7/site-packages (from tensorflow->keras-rl2) (0.2.0)\n",
      "Requirement already satisfied: tensorboard<3,>=2.3.0 in ./opt/anaconda3/lib/python3.7/site-packages (from tensorflow->keras-rl2) (2.8.0)\n",
      "Requirement already satisfied: astunparse==1.6.3 in ./opt/anaconda3/lib/python3.7/site-packages (from tensorflow->keras-rl2) (1.6.3)\n",
      "Requirement already satisfied: absl-py>=0.7.0 in ./opt/anaconda3/lib/python3.7/site-packages (from tensorflow->keras-rl2) (1.0.0)\n",
      "Requirement already satisfied: opt-einsum>=2.3.2 in ./opt/anaconda3/lib/python3.7/site-packages (from tensorflow->keras-rl2) (3.3.0)\n",
      "Requirement already satisfied: tensorflow-estimator<2.4.0,>=2.3.0 in ./opt/anaconda3/lib/python3.7/site-packages (from tensorflow->keras-rl2) (2.3.0)\n",
      "Requirement already satisfied: wrapt>=1.11.1 in ./opt/anaconda3/lib/python3.7/site-packages (from tensorflow->keras-rl2) (1.11.2)\n",
      "Requirement already satisfied: grpcio>=1.8.6 in ./opt/anaconda3/lib/python3.7/site-packages (from tensorflow->keras-rl2) (1.43.0)\n",
      "Requirement already satisfied: numpy<1.19.0,>=1.16.0 in ./opt/anaconda3/lib/python3.7/site-packages (from tensorflow->keras-rl2) (1.18.5)\n",
      "Requirement already satisfied: keras-preprocessing<1.2,>=1.1.1 in ./opt/anaconda3/lib/python3.7/site-packages (from tensorflow->keras-rl2) (1.1.2)\n",
      "Requirement already satisfied: gast==0.3.3 in ./opt/anaconda3/lib/python3.7/site-packages (from tensorflow->keras-rl2) (0.3.3)\n",
      "Requirement already satisfied: six>=1.12.0 in ./opt/anaconda3/lib/python3.7/site-packages (from tensorflow->keras-rl2) (1.15.0)\n",
      "Requirement already satisfied: termcolor>=1.1.0 in ./opt/anaconda3/lib/python3.7/site-packages (from tensorflow->keras-rl2) (1.1.0)\n",
      "Requirement already satisfied: markdown>=2.6.8 in ./opt/anaconda3/lib/python3.7/site-packages (from tensorboard<3,>=2.3.0->tensorflow->keras-rl2) (3.3.6)\n",
      "Requirement already satisfied: google-auth<3,>=1.6.3 in ./opt/anaconda3/lib/python3.7/site-packages (from tensorboard<3,>=2.3.0->tensorflow->keras-rl2) (1.25.0)\n",
      "Requirement already satisfied: werkzeug>=0.11.15 in ./opt/anaconda3/lib/python3.7/site-packages (from tensorboard<3,>=2.3.0->tensorflow->keras-rl2) (0.16.0)\n",
      "Requirement already satisfied: tensorboard-data-server<0.7.0,>=0.6.0 in ./opt/anaconda3/lib/python3.7/site-packages (from tensorboard<3,>=2.3.0->tensorflow->keras-rl2) (0.6.1)\n",
      "Requirement already satisfied: tensorboard-plugin-wit>=1.6.0 in ./opt/anaconda3/lib/python3.7/site-packages (from tensorboard<3,>=2.3.0->tensorflow->keras-rl2) (1.8.1)\n",
      "Requirement already satisfied: setuptools>=41.0.0 in ./opt/anaconda3/lib/python3.7/site-packages (from tensorboard<3,>=2.3.0->tensorflow->keras-rl2) (41.4.0)\n",
      "Requirement already satisfied: requests<3,>=2.21.0 in ./opt/anaconda3/lib/python3.7/site-packages (from tensorboard<3,>=2.3.0->tensorflow->keras-rl2) (2.22.0)\n",
      "Requirement already satisfied: google-auth-oauthlib<0.5,>=0.4.1 in ./opt/anaconda3/lib/python3.7/site-packages (from tensorboard<3,>=2.3.0->tensorflow->keras-rl2) (0.4.6)\n",
      "Requirement already satisfied: importlib-metadata>=4.4; python_version < \"3.10\" in ./opt/anaconda3/lib/python3.7/site-packages (from markdown>=2.6.8->tensorboard<3,>=2.3.0->tensorflow->keras-rl2) (4.10.1)\n",
      "Requirement already satisfied: pyasn1-modules>=0.2.1 in ./opt/anaconda3/lib/python3.7/site-packages (from google-auth<3,>=1.6.3->tensorboard<3,>=2.3.0->tensorflow->keras-rl2) (0.2.8)\n",
      "Requirement already satisfied: rsa<5,>=3.1.4; python_version >= \"3.6\" in ./opt/anaconda3/lib/python3.7/site-packages (from google-auth<3,>=1.6.3->tensorboard<3,>=2.3.0->tensorflow->keras-rl2) (4.7)\n",
      "Requirement already satisfied: cachetools<5.0,>=2.0.0 in ./opt/anaconda3/lib/python3.7/site-packages (from google-auth<3,>=1.6.3->tensorboard<3,>=2.3.0->tensorflow->keras-rl2) (4.2.1)\n",
      "Requirement already satisfied: urllib3!=1.25.0,!=1.25.1,<1.26,>=1.21.1 in ./opt/anaconda3/lib/python3.7/site-packages (from requests<3,>=2.21.0->tensorboard<3,>=2.3.0->tensorflow->keras-rl2) (1.24.2)\n",
      "Requirement already satisfied: idna<2.9,>=2.5 in ./opt/anaconda3/lib/python3.7/site-packages (from requests<3,>=2.21.0->tensorboard<3,>=2.3.0->tensorflow->keras-rl2) (2.8)\n",
      "Requirement already satisfied: certifi>=2017.4.17 in ./opt/anaconda3/lib/python3.7/site-packages (from requests<3,>=2.21.0->tensorboard<3,>=2.3.0->tensorflow->keras-rl2) (2019.9.11)\n",
      "Requirement already satisfied: chardet<3.1.0,>=3.0.2 in ./opt/anaconda3/lib/python3.7/site-packages (from requests<3,>=2.21.0->tensorboard<3,>=2.3.0->tensorflow->keras-rl2) (3.0.4)\n",
      "Requirement already satisfied: requests-oauthlib>=0.7.0 in ./opt/anaconda3/lib/python3.7/site-packages (from google-auth-oauthlib<0.5,>=0.4.1->tensorboard<3,>=2.3.0->tensorflow->keras-rl2) (1.3.0)\n",
      "Requirement already satisfied: zipp>=0.5 in ./opt/anaconda3/lib/python3.7/site-packages (from importlib-metadata>=4.4; python_version < \"3.10\"->markdown>=2.6.8->tensorboard<3,>=2.3.0->tensorflow->keras-rl2) (0.6.0)\n",
      "Requirement already satisfied: typing-extensions>=3.6.4; python_version < \"3.8\" in ./opt/anaconda3/lib/python3.7/site-packages (from importlib-metadata>=4.4; python_version < \"3.10\"->markdown>=2.6.8->tensorboard<3,>=2.3.0->tensorflow->keras-rl2) (4.0.1)\n",
      "Requirement already satisfied: pyasn1<0.5.0,>=0.4.6 in ./opt/anaconda3/lib/python3.7/site-packages (from pyasn1-modules>=0.2.1->google-auth<3,>=1.6.3->tensorboard<3,>=2.3.0->tensorflow->keras-rl2) (0.4.8)\n",
      "Requirement already satisfied: oauthlib>=3.0.0 in ./opt/anaconda3/lib/python3.7/site-packages (from requests-oauthlib>=0.7.0->google-auth-oauthlib<0.5,>=0.4.1->tensorboard<3,>=2.3.0->tensorflow->keras-rl2) (3.1.0)\n",
      "Requirement already satisfied: more-itertools in ./opt/anaconda3/lib/python3.7/site-packages (from zipp>=0.5->importlib-metadata>=4.4; python_version < \"3.10\"->markdown>=2.6.8->tensorboard<3,>=2.3.0->tensorflow->keras-rl2) (7.2.0)\n"
     ]
    }
   ],
   "source": [
    "!pip install tensorflow==2.3.0\n",
    "!pip install gym\n",
    "!pip install keras\n",
    "!pip install keras-rl2"
   ]
  },
  {
   "cell_type": "markdown",
   "metadata": {},
   "source": [
    "2. test random environment with OpenAI Gym"
   ]
  },
  {
   "cell_type": "code",
   "execution_count": 6,
   "metadata": {},
   "outputs": [
    {
     "name": "stdout",
     "output_type": "stream",
     "text": [
      "Requirement already satisfied: gym in ./opt/anaconda3/lib/python3.7/site-packages (0.21.0)\n",
      "Requirement already satisfied: cloudpickle>=1.2.0 in ./opt/anaconda3/lib/python3.7/site-packages (from gym) (1.2.2)\n",
      "Requirement already satisfied: importlib-metadata>=4.8.1; python_version < \"3.8\" in ./opt/anaconda3/lib/python3.7/site-packages (from gym) (4.10.1)\n",
      "Requirement already satisfied: numpy>=1.18.0 in ./opt/anaconda3/lib/python3.7/site-packages (from gym) (1.18.5)\n",
      "Requirement already satisfied: zipp>=0.5 in ./opt/anaconda3/lib/python3.7/site-packages (from importlib-metadata>=4.8.1; python_version < \"3.8\"->gym) (0.6.0)\n",
      "Requirement already satisfied: typing-extensions>=3.6.4; python_version < \"3.8\" in ./opt/anaconda3/lib/python3.7/site-packages (from importlib-metadata>=4.8.1; python_version < \"3.8\"->gym) (4.0.1)\n",
      "Requirement already satisfied: more-itertools in ./opt/anaconda3/lib/python3.7/site-packages (from zipp>=0.5->importlib-metadata>=4.8.1; python_version < \"3.8\"->gym) (7.2.0)\n"
     ]
    }
   ],
   "source": [
    "#!pip install gym"
   ]
  },
  {
   "cell_type": "code",
   "execution_count": 7,
   "metadata": {},
   "outputs": [
    {
     "name": "stdout",
     "output_type": "stream",
     "text": [
      "Name: gym\r\n",
      "Version: 0.21.0\r\n",
      "Summary: Gym: A universal API for reinforcement learning environments.\r\n",
      "Home-page: https://github.com/openai/gym\r\n",
      "Author: OpenAI\r\n",
      "Author-email: jkterry@umd.edu\r\n",
      "License: UNKNOWN\r\n",
      "Location: /Users/JeanJeongjinPark/opt/anaconda3/lib/python3.7/site-packages\r\n",
      "Requires: importlib-metadata, numpy, cloudpickle\r\n",
      "Required-by: \r\n"
     ]
    }
   ],
   "source": [
    "#!pip show gym"
   ]
  },
  {
   "cell_type": "code",
   "execution_count": 8,
   "metadata": {},
   "outputs": [],
   "source": [
    "import sys\n",
    "sys.path.append('/Users/JeanJeongjinPark/opt/anaconda3/lib/python3.7/site-packages')"
   ]
  },
  {
   "cell_type": "code",
   "execution_count": 9,
   "metadata": {},
   "outputs": [
    {
     "name": "stdout",
     "output_type": "stream",
     "text": [
      "Requirement already satisfied: gym[all] in ./opt/anaconda3/lib/python3.7/site-packages (0.21.0)\n",
      "Requirement already satisfied: importlib-metadata>=4.8.1; python_version < \"3.8\" in ./opt/anaconda3/lib/python3.7/site-packages (from gym[all]) (4.10.1)\n",
      "Requirement already satisfied: numpy>=1.18.0 in ./opt/anaconda3/lib/python3.7/site-packages (from gym[all]) (1.18.5)\n",
      "Requirement already satisfied: cloudpickle>=1.2.0 in ./opt/anaconda3/lib/python3.7/site-packages (from gym[all]) (1.2.2)\n",
      "Requirement already satisfied: scipy>=1.4.1; extra == \"all\" in ./opt/anaconda3/lib/python3.7/site-packages (from gym[all]) (1.4.1)\n",
      "Requirement already satisfied: ale-py~=0.7.1; extra == \"all\" in ./opt/anaconda3/lib/python3.7/site-packages (from gym[all]) (0.7.3)\n",
      "Requirement already satisfied: lz4>=3.1.0; extra == \"all\" in ./opt/anaconda3/lib/python3.7/site-packages (from gym[all]) (3.1.10)\n",
      "Collecting box2d-py==2.3.5; extra == \"all\" (from gym[all])\n",
      "  Using cached https://files.pythonhosted.org/packages/dd/5a/ad8d3ef9c13d5afcc1e44a77f11792ee717f6727b3320bddbc607e935e2a/box2d-py-2.3.5.tar.gz\n",
      "Requirement already satisfied: pyglet>=1.4.0; extra == \"all\" in ./opt/anaconda3/lib/python3.7/site-packages (from gym[all]) (1.5.21)\n",
      "Requirement already satisfied: opencv-python>=3.; extra == \"all\" in ./opt/anaconda3/lib/python3.7/site-packages (from gym[all]) (4.5.5.62)\n",
      "Collecting mujoco-py<2.0,>=1.50; extra == \"all\" (from gym[all])\n",
      "  Using cached https://files.pythonhosted.org/packages/cf/8c/64e0630b3d450244feef0688d90eab2448631e40ba6bdbd90a70b84898e7/mujoco-py-1.50.1.68.tar.gz\n",
      "Requirement already satisfied: typing-extensions>=3.6.4; python_version < \"3.8\" in ./opt/anaconda3/lib/python3.7/site-packages (from importlib-metadata>=4.8.1; python_version < \"3.8\"->gym[all]) (4.0.1)\n",
      "Requirement already satisfied: zipp>=0.5 in ./opt/anaconda3/lib/python3.7/site-packages (from importlib-metadata>=4.8.1; python_version < \"3.8\"->gym[all]) (0.6.0)\n",
      "Requirement already satisfied: importlib-resources in ./opt/anaconda3/lib/python3.7/site-packages (from ale-py~=0.7.1; extra == \"all\"->gym[all]) (5.4.0)\n",
      "Requirement already satisfied: glfw>=1.4.0 in ./opt/anaconda3/lib/python3.7/site-packages (from mujoco-py<2.0,>=1.50; extra == \"all\"->gym[all]) (2.5.0)\n",
      "Requirement already satisfied: Cython>=0.27.2 in ./opt/anaconda3/lib/python3.7/site-packages (from mujoco-py<2.0,>=1.50; extra == \"all\"->gym[all]) (0.29.13)\n",
      "Requirement already satisfied: imageio>=2.1.2 in ./opt/anaconda3/lib/python3.7/site-packages (from mujoco-py<2.0,>=1.50; extra == \"all\"->gym[all]) (2.6.0)\n",
      "Requirement already satisfied: cffi>=1.10 in ./opt/anaconda3/lib/python3.7/site-packages (from mujoco-py<2.0,>=1.50; extra == \"all\"->gym[all]) (1.12.3)\n",
      "Requirement already satisfied: lockfile>=0.12.2 in ./opt/anaconda3/lib/python3.7/site-packages (from mujoco-py<2.0,>=1.50; extra == \"all\"->gym[all]) (0.12.2)\n",
      "Requirement already satisfied: more-itertools in ./opt/anaconda3/lib/python3.7/site-packages (from zipp>=0.5->importlib-metadata>=4.8.1; python_version < \"3.8\"->gym[all]) (7.2.0)\n",
      "Requirement already satisfied: pillow in ./opt/anaconda3/lib/python3.7/site-packages (from imageio>=2.1.2->mujoco-py<2.0,>=1.50; extra == \"all\"->gym[all]) (6.2.0)\n",
      "Requirement already satisfied: pycparser in ./opt/anaconda3/lib/python3.7/site-packages (from cffi>=1.10->mujoco-py<2.0,>=1.50; extra == \"all\"->gym[all]) (2.19)\n",
      "Building wheels for collected packages: box2d-py, mujoco-py\n",
      "  Building wheel for box2d-py (setup.py) ... \u001b[?25lerror\n",
      "\u001b[31m  ERROR: Command errored out with exit status 1:\n",
      "   command: /Users/JeanJeongjinPark/opt/anaconda3/bin/python -u -c 'import sys, setuptools, tokenize; sys.argv[0] = '\"'\"'/private/var/folders/8b/jkr7fnlj16n_fck4d8gkz4v00000gn/T/pip-install-vt7wo6b_/box2d-py/setup.py'\"'\"'; __file__='\"'\"'/private/var/folders/8b/jkr7fnlj16n_fck4d8gkz4v00000gn/T/pip-install-vt7wo6b_/box2d-py/setup.py'\"'\"';f=getattr(tokenize, '\"'\"'open'\"'\"', open)(__file__);code=f.read().replace('\"'\"'\\r\\n'\"'\"', '\"'\"'\\n'\"'\"');f.close();exec(compile(code, __file__, '\"'\"'exec'\"'\"'))' bdist_wheel -d /private/var/folders/8b/jkr7fnlj16n_fck4d8gkz4v00000gn/T/pip-wheel-glt9ubdj --python-tag cp37\n",
      "       cwd: /private/var/folders/8b/jkr7fnlj16n_fck4d8gkz4v00000gn/T/pip-install-vt7wo6b_/box2d-py/\n",
      "  Complete output (17 lines):\n",
      "  Using setuptools (version 41.4.0).\n",
      "  running bdist_wheel\n",
      "  running build\n",
      "  running build_py\n",
      "  creating build\n",
      "  creating build/lib.macosx-10.9-x86_64-3.7\n",
      "  creating build/lib.macosx-10.9-x86_64-3.7/Box2D\n",
      "  copying library/Box2D/Box2D.py -> build/lib.macosx-10.9-x86_64-3.7/Box2D\n",
      "  copying library/Box2D/__init__.py -> build/lib.macosx-10.9-x86_64-3.7/Box2D\n",
      "  creating build/lib.macosx-10.9-x86_64-3.7/Box2D/b2\n",
      "  copying library/Box2D/b2/__init__.py -> build/lib.macosx-10.9-x86_64-3.7/Box2D/b2\n",
      "  running build_ext\n",
      "  building 'Box2D._Box2D' extension\n",
      "  swigging Box2D/Box2D.i to Box2D/Box2D_wrap.cpp\n",
      "  swig -python -c++ -IBox2D -small -O -includeall -ignoremissing -w201 -globals b2Globals -outdir library/Box2D -keyword -w511 -D_SWIG_KWARGS -o Box2D/Box2D_wrap.cpp Box2D/Box2D.i\n",
      "  unable to execute 'swig': No such file or directory\n",
      "  error: command 'swig' failed with exit status 1\n",
      "  ----------------------------------------\u001b[0m\n",
      "\u001b[31m  ERROR: Failed building wheel for box2d-py\u001b[0m\n",
      "\u001b[?25h  Running setup.py clean for box2d-py\n",
      "  Building wheel for mujoco-py (setup.py) ... \u001b[?25lerror\n",
      "\u001b[31m  ERROR: Command errored out with exit status 1:\n",
      "   command: /Users/JeanJeongjinPark/opt/anaconda3/bin/python -u -c 'import sys, setuptools, tokenize; sys.argv[0] = '\"'\"'/private/var/folders/8b/jkr7fnlj16n_fck4d8gkz4v00000gn/T/pip-install-vt7wo6b_/mujoco-py/setup.py'\"'\"'; __file__='\"'\"'/private/var/folders/8b/jkr7fnlj16n_fck4d8gkz4v00000gn/T/pip-install-vt7wo6b_/mujoco-py/setup.py'\"'\"';f=getattr(tokenize, '\"'\"'open'\"'\"', open)(__file__);code=f.read().replace('\"'\"'\\r\\n'\"'\"', '\"'\"'\\n'\"'\"');f.close();exec(compile(code, __file__, '\"'\"'exec'\"'\"'))' bdist_wheel -d /private/var/folders/8b/jkr7fnlj16n_fck4d8gkz4v00000gn/T/pip-wheel-zxaqnd7h --python-tag cp37\n",
      "       cwd: /private/var/folders/8b/jkr7fnlj16n_fck4d8gkz4v00000gn/T/pip-install-vt7wo6b_/mujoco-py/\n",
      "  Complete output (54 lines):\n",
      "  running bdist_wheel\n",
      "  running build\n",
      "  \n",
      "  You appear to be missing MuJoCo.  We expected to find the file here: /Users/JeanJeongjinPark/.mujoco/mjpro150\n",
      "  \n",
      "  This package only provides python bindings, the library must be installed separately.\n",
      "  \n",
      "  Please follow the instructions on the README to install MuJoCo\n",
      "  \n",
      "      https://github.com/openai/mujoco-py#install-mujoco\n",
      "  \n",
      "  Which can be downloaded from the website\n",
      "  \n",
      "      https://www.roboti.us/index.html\n",
      "  \n",
      "  Traceback (most recent call last):\n",
      "    File \"<string>\", line 1, in <module>\n",
      "    File \"/private/var/folders/8b/jkr7fnlj16n_fck4d8gkz4v00000gn/T/pip-install-vt7wo6b_/mujoco-py/setup.py\", line 44, in <module>\n",
      "      tests_require=read_requirements_file('requirements.dev.txt'),\n",
      "    File \"/Users/JeanJeongjinPark/opt/anaconda3/lib/python3.7/site-packages/setuptools/__init__.py\", line 145, in setup\n",
      "      return distutils.core.setup(**attrs)\n",
      "    File \"/Users/JeanJeongjinPark/opt/anaconda3/lib/python3.7/distutils/core.py\", line 148, in setup\n",
      "      dist.run_commands()\n",
      "    File \"/Users/JeanJeongjinPark/opt/anaconda3/lib/python3.7/distutils/dist.py\", line 966, in run_commands\n",
      "      self.run_command(cmd)\n",
      "    File \"/Users/JeanJeongjinPark/opt/anaconda3/lib/python3.7/distutils/dist.py\", line 985, in run_command\n",
      "      cmd_obj.run()\n",
      "    File \"/Users/JeanJeongjinPark/opt/anaconda3/lib/python3.7/site-packages/wheel/bdist_wheel.py\", line 192, in run\n",
      "      self.run_command('build')\n",
      "    File \"/Users/JeanJeongjinPark/opt/anaconda3/lib/python3.7/distutils/cmd.py\", line 313, in run_command\n",
      "      self.distribution.run_command(command)\n",
      "    File \"/Users/JeanJeongjinPark/opt/anaconda3/lib/python3.7/distutils/dist.py\", line 985, in run_command\n",
      "      cmd_obj.run()\n",
      "    File \"/private/var/folders/8b/jkr7fnlj16n_fck4d8gkz4v00000gn/T/pip-install-vt7wo6b_/mujoco-py/setup.py\", line 28, in run\n",
      "      import mujoco_py  # noqa: force build\n",
      "    File \"/private/var/folders/8b/jkr7fnlj16n_fck4d8gkz4v00000gn/T/pip-install-vt7wo6b_/mujoco-py/mujoco_py/__init__.py\", line 3, in <module>\n",
      "      from mujoco_py.builder import cymj, ignore_mujoco_warnings, functions, MujocoException\n",
      "    File \"/private/var/folders/8b/jkr7fnlj16n_fck4d8gkz4v00000gn/T/pip-install-vt7wo6b_/mujoco-py/mujoco_py/builder.py\", line 502, in <module>\n",
      "      mjpro_path, key_path = discover_mujoco()\n",
      "    File \"/private/var/folders/8b/jkr7fnlj16n_fck4d8gkz4v00000gn/T/pip-install-vt7wo6b_/mujoco-py/mujoco_py/utils.py\", line 93, in discover_mujoco\n",
      "      raise Exception(message)\n",
      "  Exception:\n",
      "  You appear to be missing MuJoCo.  We expected to find the file here: /Users/JeanJeongjinPark/.mujoco/mjpro150\n",
      "  \n",
      "  This package only provides python bindings, the library must be installed separately.\n",
      "  \n",
      "  Please follow the instructions on the README to install MuJoCo\n",
      "  \n",
      "      https://github.com/openai/mujoco-py#install-mujoco\n",
      "  \n",
      "  Which can be downloaded from the website\n",
      "  \n",
      "      https://www.roboti.us/index.html\n",
      "  \n",
      "  ----------------------------------------\u001b[0m\n",
      "\u001b[31m  ERROR: Failed building wheel for mujoco-py\u001b[0m\n",
      "\u001b[?25h  Running setup.py clean for mujoco-py\n",
      "Failed to build box2d-py mujoco-py\n",
      "Installing collected packages: box2d-py, mujoco-py\n",
      "  Running setup.py install for box2d-py ... \u001b[?25lerror\n",
      "\u001b[31m    ERROR: Command errored out with exit status 1:\n",
      "     command: /Users/JeanJeongjinPark/opt/anaconda3/bin/python -u -c 'import sys, setuptools, tokenize; sys.argv[0] = '\"'\"'/private/var/folders/8b/jkr7fnlj16n_fck4d8gkz4v00000gn/T/pip-install-vt7wo6b_/box2d-py/setup.py'\"'\"'; __file__='\"'\"'/private/var/folders/8b/jkr7fnlj16n_fck4d8gkz4v00000gn/T/pip-install-vt7wo6b_/box2d-py/setup.py'\"'\"';f=getattr(tokenize, '\"'\"'open'\"'\"', open)(__file__);code=f.read().replace('\"'\"'\\r\\n'\"'\"', '\"'\"'\\n'\"'\"');f.close();exec(compile(code, __file__, '\"'\"'exec'\"'\"'))' install --record /private/var/folders/8b/jkr7fnlj16n_fck4d8gkz4v00000gn/T/pip-record-suu345yl/install-record.txt --single-version-externally-managed --compile\n",
      "         cwd: /private/var/folders/8b/jkr7fnlj16n_fck4d8gkz4v00000gn/T/pip-install-vt7wo6b_/box2d-py/\n",
      "    Complete output (17 lines):\n",
      "    Using setuptools (version 41.4.0).\n",
      "    running install\n",
      "    running build\n",
      "    running build_py\n",
      "    creating build\n",
      "    creating build/lib.macosx-10.9-x86_64-3.7\n",
      "    creating build/lib.macosx-10.9-x86_64-3.7/Box2D\n",
      "    copying library/Box2D/Box2D.py -> build/lib.macosx-10.9-x86_64-3.7/Box2D\n",
      "    copying library/Box2D/__init__.py -> build/lib.macosx-10.9-x86_64-3.7/Box2D\n",
      "    creating build/lib.macosx-10.9-x86_64-3.7/Box2D/b2\n",
      "    copying library/Box2D/b2/__init__.py -> build/lib.macosx-10.9-x86_64-3.7/Box2D/b2\n",
      "    running build_ext\n",
      "    building 'Box2D._Box2D' extension\n",
      "    swigging Box2D/Box2D.i to Box2D/Box2D_wrap.cpp\n",
      "    swig -python -c++ -IBox2D -small -O -includeall -ignoremissing -w201 -globals b2Globals -outdir library/Box2D -keyword -w511 -D_SWIG_KWARGS -o Box2D/Box2D_wrap.cpp Box2D/Box2D.i\n",
      "    unable to execute 'swig': No such file or directory\n",
      "    error: command 'swig' failed with exit status 1\n",
      "    ----------------------------------------\u001b[0m\n",
      "\u001b[31mERROR: Command errored out with exit status 1: /Users/JeanJeongjinPark/opt/anaconda3/bin/python -u -c 'import sys, setuptools, tokenize; sys.argv[0] = '\"'\"'/private/var/folders/8b/jkr7fnlj16n_fck4d8gkz4v00000gn/T/pip-install-vt7wo6b_/box2d-py/setup.py'\"'\"'; __file__='\"'\"'/private/var/folders/8b/jkr7fnlj16n_fck4d8gkz4v00000gn/T/pip-install-vt7wo6b_/box2d-py/setup.py'\"'\"';f=getattr(tokenize, '\"'\"'open'\"'\"', open)(__file__);code=f.read().replace('\"'\"'\\r\\n'\"'\"', '\"'\"'\\n'\"'\"');f.close();exec(compile(code, __file__, '\"'\"'exec'\"'\"'))' install --record /private/var/folders/8b/jkr7fnlj16n_fck4d8gkz4v00000gn/T/pip-record-suu345yl/install-record.txt --single-version-externally-managed --compile Check the logs for full command output.\u001b[0m\n",
      "\u001b[?25h"
     ]
    }
   ],
   "source": [
    "!pip install gym[all]"
   ]
  },
  {
   "cell_type": "code",
   "execution_count": 10,
   "metadata": {},
   "outputs": [],
   "source": [
    "import gym\n",
    "\n",
    "# -- set up the environment -- #\n",
    "\n",
    "# make the cartpole environment\n",
    "env = gym.make('CartPole-v0')\n",
    "# looking at any states possible in our environment\n",
    "states = env.observation_space.shape[0]\n",
    "actions = env.action_space.n"
   ]
  },
  {
   "cell_type": "code",
   "execution_count": 11,
   "metadata": {},
   "outputs": [
    {
     "data": {
      "text/plain": [
       "2"
      ]
     },
     "execution_count": 11,
     "metadata": {},
     "output_type": "execute_result"
    }
   ],
   "source": [
    "# we have 2 actions available: going left or right\n",
    "actions"
   ]
  },
  {
   "cell_type": "code",
   "execution_count": 12,
   "metadata": {},
   "outputs": [
    {
     "data": {
      "text/plain": [
       "4"
      ]
     },
     "execution_count": 12,
     "metadata": {},
     "output_type": "execute_result"
    }
   ],
   "source": [
    "# we have 4 states\n",
    "states"
   ]
  },
  {
   "cell_type": "code",
   "execution_count": 14,
   "metadata": {},
   "outputs": [
    {
     "name": "stdout",
     "output_type": "stream",
     "text": [
      "Episode: 1 Score:23.0\n",
      "Episode: 2 Score:20.0\n",
      "Episode: 3 Score:64.0\n",
      "Episode: 4 Score:19.0\n",
      "Episode: 5 Score:26.0\n",
      "Episode: 6 Score:15.0\n",
      "Episode: 7 Score:13.0\n",
      "Episode: 8 Score:14.0\n",
      "Episode: 9 Score:40.0\n",
      "Episode: 10 Score:16.0\n"
     ]
    }
   ],
   "source": [
    "import random\n",
    "\n",
    "# -- build random environment -- #\n",
    "\n",
    "episodes = 10\n",
    "for episode in range(1, episodes+1):\n",
    "  state = env.reset()\n",
    "  done = False\n",
    "  score = 0\n",
    "\n",
    "  while not done:\n",
    "    # render our environment, see our cut in action\n",
    "    env.render()\n",
    "    # taking random steps\n",
    "    action = random.choice([0,1])\n",
    "    # actually applying that action to our environment and getting the result\n",
    "    n_state, reward, done, info = env.step(action)\n",
    "    # accumulate our entire reward\n",
    "    score += reward\n",
    "  print('Episode: {} Score:{}'.format(episode, score))"
   ]
  },
  {
   "cell_type": "markdown",
   "metadata": {},
   "source": [
    "3. Create a Deep Learning Model with Keras"
   ]
  },
  {
   "cell_type": "code",
   "execution_count": 25,
   "metadata": {},
   "outputs": [],
   "source": [
    "import numpy as np\n",
    "import tensorflow\n",
    "\n",
    "from tensorflow.keras.models import Sequential\n",
    "from tensorflow.keras.layers import Dense, Flatten\n",
    "from tensorflow.keras.optimizers import Adam"
   ]
  },
  {
   "cell_type": "code",
   "execution_count": 26,
   "metadata": {},
   "outputs": [],
   "source": [
    "def build_model(states, actions):\n",
    "    model = tensorflow.keras.Sequential()\n",
    "    model.add(Flatten(input_shape=(1,states)))\n",
    "    model.add(Dense(24, activation='relu'))\n",
    "    model.add(Dense(24, activation='relu'))\n",
    "    model.add(Dense(actions, activation='linear'))\n",
    "    return model"
   ]
  },
  {
   "cell_type": "code",
   "execution_count": 27,
   "metadata": {},
   "outputs": [],
   "source": [
    "model = build_model(states, actions)"
   ]
  },
  {
   "cell_type": "code",
   "execution_count": 28,
   "metadata": {},
   "outputs": [
    {
     "name": "stdout",
     "output_type": "stream",
     "text": [
      "Model: \"sequential_1\"\n",
      "_________________________________________________________________\n",
      "Layer (type)                 Output Shape              Param #   \n",
      "=================================================================\n",
      "flatten_1 (Flatten)          (None, 4)                 0         \n",
      "_________________________________________________________________\n",
      "dense_3 (Dense)              (None, 24)                120       \n",
      "_________________________________________________________________\n",
      "dense_4 (Dense)              (None, 24)                600       \n",
      "_________________________________________________________________\n",
      "dense_5 (Dense)              (None, 2)                 50        \n",
      "=================================================================\n",
      "Total params: 770\n",
      "Trainable params: 770\n",
      "Non-trainable params: 0\n",
      "_________________________________________________________________\n"
     ]
    }
   ],
   "source": [
    "model.summary()"
   ]
  },
  {
   "cell_type": "markdown",
   "metadata": {},
   "source": [
    "4. Build Agent with Keras-RL"
   ]
  },
  {
   "cell_type": "code",
   "execution_count": 29,
   "metadata": {},
   "outputs": [],
   "source": [
    "from rl.agents import DQNAgent\n",
    "from rl.policy import BoltzmannQPolicy\n",
    "from rl.memory import SequentialMemory"
   ]
  },
  {
   "cell_type": "code",
   "execution_count": 30,
   "metadata": {},
   "outputs": [],
   "source": [
    "def build_agent(model, actions):\n",
    "    policy = BoltzmannQPolicy()\n",
    "    memory = SequentialMemory(limit=50000, window_length=1)\n",
    "    dqn = DQNAgent(model=model, memory=memory, policy=policy,\n",
    "                  nb_actions=actions, nb_steps_warmup=10, target_model_update=1e-2)\n",
    "    return dqn"
   ]
  },
  {
   "cell_type": "code",
   "execution_count": 31,
   "metadata": {},
   "outputs": [
    {
     "name": "stdout",
     "output_type": "stream",
     "text": [
      "Training for 50000 steps ...\n",
      "Interval 1 (0 steps performed)\n",
      "WARNING:tensorflow:From /Users/JeanJeongjinPark/opt/anaconda3/lib/python3.7/site-packages/tensorflow/python/keras/engine/training_v1.py:2070: Model.state_updates (from tensorflow.python.keras.engine.training) is deprecated and will be removed in a future version.\n",
      "Instructions for updating:\n",
      "This property should not be used in TensorFlow 2.0, as updates are applied automatically.\n",
      "   11/10000 [..............................] - ETA: 5:01 - reward: 1.0000 "
     ]
    },
    {
     "name": "stderr",
     "output_type": "stream",
     "text": [
      "/Users/JeanJeongjinPark/opt/anaconda3/lib/python3.7/site-packages/rl/memory.py:37: UserWarning: Not enough entries to sample without replacement. Consider increasing your warm-up phase to avoid oversampling!\n",
      "  warnings.warn('Not enough entries to sample without replacement. Consider increasing your warm-up phase to avoid oversampling!')\n"
     ]
    },
    {
     "name": "stdout",
     "output_type": "stream",
     "text": [
      "10000/10000 [==============================] - 475s 48ms/step - reward: 1.0000\n",
      "101 episodes - episode_reward: 98.703 [10.000, 200.000] - loss: 3.025 - mae: 18.948 - mean_q: 38.361\n",
      "\n",
      "Interval 2 (10000 steps performed)\n",
      "10000/10000 [==============================] - 382s 38ms/step - reward: 1.0000\n",
      "52 episodes - episode_reward: 192.269 [148.000, 200.000] - loss: 7.443 - mae: 39.124 - mean_q: 79.063\n",
      "\n",
      "Interval 3 (20000 steps performed)\n",
      "10000/10000 [==============================] - 322s 32ms/step - reward: 1.0000\n",
      "50 episodes - episode_reward: 196.720 [165.000, 200.000] - loss: 6.929 - mae: 43.031 - mean_q: 86.579\n",
      "\n",
      "Interval 4 (30000 steps performed)\n",
      "10000/10000 [==============================] - 330s 33ms/step - reward: 1.0000\n",
      "51 episodes - episode_reward: 198.843 [176.000, 200.000] - loss: 5.552 - mae: 41.496 - mean_q: 83.364\n",
      "\n",
      "Interval 5 (40000 steps performed)\n",
      "10000/10000 [==============================] - 340s 34ms/step - reward: 1.0000\n",
      "done, took 1849.124 seconds\n"
     ]
    },
    {
     "data": {
      "text/plain": [
       "<tensorflow.python.keras.callbacks.History at 0x7faeea05b850>"
      ]
     },
     "execution_count": 31,
     "metadata": {},
     "output_type": "execute_result"
    }
   ],
   "source": [
    "dqn = build_agent(model,actions)\n",
    "dqn.compile(Adam(lr=1e-3), metrics=['mae'])\n",
    "dqn.fit(env, nb_steps=50000, visualize=False, verbose=1)"
   ]
  },
  {
   "cell_type": "code",
   "execution_count": 32,
   "metadata": {
    "scrolled": true
   },
   "outputs": [
    {
     "name": "stdout",
     "output_type": "stream",
     "text": [
      "Testing for 100 episodes ...\n",
      "Episode 1: reward: 200.000, steps: 200\n",
      "Episode 2: reward: 200.000, steps: 200\n",
      "Episode 3: reward: 200.000, steps: 200\n",
      "Episode 4: reward: 200.000, steps: 200\n",
      "Episode 5: reward: 200.000, steps: 200\n",
      "Episode 6: reward: 200.000, steps: 200\n",
      "Episode 7: reward: 200.000, steps: 200\n",
      "Episode 8: reward: 200.000, steps: 200\n",
      "Episode 9: reward: 200.000, steps: 200\n",
      "Episode 10: reward: 200.000, steps: 200\n",
      "Episode 11: reward: 200.000, steps: 200\n",
      "Episode 12: reward: 200.000, steps: 200\n",
      "Episode 13: reward: 200.000, steps: 200\n",
      "Episode 14: reward: 200.000, steps: 200\n",
      "Episode 15: reward: 200.000, steps: 200\n",
      "Episode 16: reward: 200.000, steps: 200\n",
      "Episode 17: reward: 200.000, steps: 200\n",
      "Episode 18: reward: 200.000, steps: 200\n",
      "Episode 19: reward: 200.000, steps: 200\n",
      "Episode 20: reward: 200.000, steps: 200\n",
      "Episode 21: reward: 200.000, steps: 200\n",
      "Episode 22: reward: 200.000, steps: 200\n",
      "Episode 23: reward: 200.000, steps: 200\n",
      "Episode 24: reward: 200.000, steps: 200\n",
      "Episode 25: reward: 200.000, steps: 200\n",
      "Episode 26: reward: 200.000, steps: 200\n",
      "Episode 27: reward: 200.000, steps: 200\n",
      "Episode 28: reward: 200.000, steps: 200\n",
      "Episode 29: reward: 200.000, steps: 200\n",
      "Episode 30: reward: 200.000, steps: 200\n",
      "Episode 31: reward: 200.000, steps: 200\n",
      "Episode 32: reward: 200.000, steps: 200\n",
      "Episode 33: reward: 200.000, steps: 200\n",
      "Episode 34: reward: 200.000, steps: 200\n",
      "Episode 35: reward: 200.000, steps: 200\n",
      "Episode 36: reward: 200.000, steps: 200\n",
      "Episode 37: reward: 200.000, steps: 200\n",
      "Episode 38: reward: 200.000, steps: 200\n",
      "Episode 39: reward: 200.000, steps: 200\n",
      "Episode 40: reward: 200.000, steps: 200\n",
      "Episode 41: reward: 200.000, steps: 200\n",
      "Episode 42: reward: 200.000, steps: 200\n",
      "Episode 43: reward: 200.000, steps: 200\n",
      "Episode 44: reward: 200.000, steps: 200\n",
      "Episode 45: reward: 200.000, steps: 200\n",
      "Episode 46: reward: 200.000, steps: 200\n",
      "Episode 47: reward: 200.000, steps: 200\n",
      "Episode 48: reward: 200.000, steps: 200\n",
      "Episode 49: reward: 200.000, steps: 200\n",
      "Episode 50: reward: 200.000, steps: 200\n",
      "Episode 51: reward: 200.000, steps: 200\n",
      "Episode 52: reward: 200.000, steps: 200\n",
      "Episode 53: reward: 200.000, steps: 200\n",
      "Episode 54: reward: 200.000, steps: 200\n",
      "Episode 55: reward: 200.000, steps: 200\n",
      "Episode 56: reward: 200.000, steps: 200\n",
      "Episode 57: reward: 200.000, steps: 200\n",
      "Episode 58: reward: 200.000, steps: 200\n",
      "Episode 59: reward: 200.000, steps: 200\n",
      "Episode 60: reward: 200.000, steps: 200\n",
      "Episode 61: reward: 200.000, steps: 200\n",
      "Episode 62: reward: 200.000, steps: 200\n",
      "Episode 63: reward: 200.000, steps: 200\n",
      "Episode 64: reward: 200.000, steps: 200\n",
      "Episode 65: reward: 200.000, steps: 200\n",
      "Episode 66: reward: 200.000, steps: 200\n",
      "Episode 67: reward: 200.000, steps: 200\n",
      "Episode 68: reward: 200.000, steps: 200\n",
      "Episode 69: reward: 200.000, steps: 200\n",
      "Episode 70: reward: 200.000, steps: 200\n",
      "Episode 71: reward: 200.000, steps: 200\n",
      "Episode 72: reward: 200.000, steps: 200\n",
      "Episode 73: reward: 200.000, steps: 200\n",
      "Episode 74: reward: 200.000, steps: 200\n",
      "Episode 75: reward: 200.000, steps: 200\n",
      "Episode 76: reward: 200.000, steps: 200\n",
      "Episode 77: reward: 200.000, steps: 200\n",
      "Episode 78: reward: 200.000, steps: 200\n",
      "Episode 79: reward: 200.000, steps: 200\n",
      "Episode 80: reward: 200.000, steps: 200\n",
      "Episode 81: reward: 200.000, steps: 200\n",
      "Episode 82: reward: 200.000, steps: 200\n",
      "Episode 83: reward: 200.000, steps: 200\n",
      "Episode 84: reward: 200.000, steps: 200\n",
      "Episode 85: reward: 200.000, steps: 200\n",
      "Episode 86: reward: 200.000, steps: 200\n",
      "Episode 87: reward: 200.000, steps: 200\n",
      "Episode 88: reward: 200.000, steps: 200\n",
      "Episode 89: reward: 200.000, steps: 200\n",
      "Episode 90: reward: 200.000, steps: 200\n",
      "Episode 91: reward: 200.000, steps: 200\n",
      "Episode 92: reward: 200.000, steps: 200\n",
      "Episode 93: reward: 200.000, steps: 200\n",
      "Episode 94: reward: 200.000, steps: 200\n",
      "Episode 95: reward: 200.000, steps: 200\n",
      "Episode 96: reward: 200.000, steps: 200\n",
      "Episode 97: reward: 200.000, steps: 200\n",
      "Episode 98: reward: 200.000, steps: 200\n",
      "Episode 99: reward: 200.000, steps: 200\n",
      "Episode 100: reward: 200.000, steps: 200\n",
      "200.0\n"
     ]
    }
   ],
   "source": [
    "scores = dqn.test(env, nb_episodes=100, visualize=False)\n",
    "print(np.mean(scores.history['episode_reward']))"
   ]
  },
  {
   "cell_type": "code",
   "execution_count": null,
   "metadata": {},
   "outputs": [],
   "source": []
  }
 ],
 "metadata": {
  "kernelspec": {
   "display_name": "Python 3",
   "language": "python",
   "name": "python3"
  },
  "language_info": {
   "codemirror_mode": {
    "name": "ipython",
    "version": 3
   },
   "file_extension": ".py",
   "mimetype": "text/x-python",
   "name": "python",
   "nbconvert_exporter": "python",
   "pygments_lexer": "ipython3",
   "version": "3.7.4"
  }
 },
 "nbformat": 4,
 "nbformat_minor": 2
}
